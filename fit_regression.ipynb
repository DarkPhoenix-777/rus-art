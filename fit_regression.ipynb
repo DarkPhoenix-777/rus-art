{
 "cells": [
  {
   "cell_type": "code",
   "execution_count": 1,
   "metadata": {},
   "outputs": [],
   "source": [
    "import numpy as np\n",
    "import pandas as pd\n",
    "from sklearn.linear_model import LogisticRegression\n",
    "from sklearn.model_selection import train_test_split\n",
    "from sklearn.metrics import f1_score, accuracy_score"
   ]
  },
  {
   "cell_type": "code",
   "execution_count": 2,
   "metadata": {},
   "outputs": [],
   "source": [
    "def makeArray(text: str):\n",
    "    text = text.replace(\"[\", \"\")\n",
    "    text = text.replace(\"]\", \"\")\n",
    "    return np.fromstring(text, sep=\", \")"
   ]
  },
  {
   "cell_type": "code",
   "execution_count": 3,
   "metadata": {},
   "outputs": [],
   "source": [
    "df = pd.read_csv(\"embeddings.csv\")\n",
    "df_rotated = pd.read_csv(\"embeddings_rotated.csv\")\n",
    "df_flipped = pd.read_csv(\"embeddings_flipped.csv\")\n",
    "df_perspective = pd.read_csv(\"embeddings_perspective.csv\")"
   ]
  },
  {
   "cell_type": "code",
   "execution_count": 4,
   "metadata": {},
   "outputs": [],
   "source": [
    "df[\"embeddings\"] = df[\"embeddings\"].apply(lambda x: makeArray(x))\n",
    "df_rotated[\"embeddings\"] = df_rotated[\"embeddings\"].apply(lambda x: makeArray(x))\n",
    "df_flipped[\"embeddings\"] = df_flipped[\"embeddings\"].apply(lambda x: makeArray(x))\n",
    "df_perspective[\"embeddings\"] = df_perspective[\"embeddings\"].apply(lambda x: makeArray(x))"
   ]
  },
  {
   "cell_type": "code",
   "execution_count": 6,
   "metadata": {},
   "outputs": [
    {
     "data": {
      "text/html": [
       "<div>\n",
       "<style scoped>\n",
       "    .dataframe tbody tr th:only-of-type {\n",
       "        vertical-align: middle;\n",
       "    }\n",
       "\n",
       "    .dataframe tbody tr th {\n",
       "        vertical-align: top;\n",
       "    }\n",
       "\n",
       "    .dataframe thead th {\n",
       "        text-align: right;\n",
       "    }\n",
       "</style>\n",
       "<table border=\"1\" class=\"dataframe\">\n",
       "  <thead>\n",
       "    <tr style=\"text-align: right;\">\n",
       "      <th></th>\n",
       "      <th>image_name</th>\n",
       "      <th>embeddings</th>\n",
       "      <th>label_id</th>\n",
       "    </tr>\n",
       "  </thead>\n",
       "  <tbody>\n",
       "    <tr>\n",
       "      <th>0</th>\n",
       "      <td>af49360b0b294346b3dbf70602d56e37.jpg</td>\n",
       "      <td>[0.47940772771835327, 0.9075570106506348, -0.7...</td>\n",
       "      <td>0</td>\n",
       "    </tr>\n",
       "    <tr>\n",
       "      <th>1</th>\n",
       "      <td>009ccc6503584cabbdff7b98a2bc68e1.jpeg</td>\n",
       "      <td>[0.4841076135635376, -1.1820068359375, -0.3699...</td>\n",
       "      <td>0</td>\n",
       "    </tr>\n",
       "    <tr>\n",
       "      <th>2</th>\n",
       "      <td>a83a2120a2d945ce82175e0df44fb77b.jpg</td>\n",
       "      <td>[1.1368943452835083, 0.12796548008918762, -0.2...</td>\n",
       "      <td>0</td>\n",
       "    </tr>\n",
       "    <tr>\n",
       "      <th>3</th>\n",
       "      <td>8a71564f915143969042c0e190b0b47b.jpg</td>\n",
       "      <td>[0.20197629928588867, -1.1876723766326904, -0....</td>\n",
       "      <td>0</td>\n",
       "    </tr>\n",
       "    <tr>\n",
       "      <th>4</th>\n",
       "      <td>e1eaf20e92f043409052f47b3ce60cf5.jpg</td>\n",
       "      <td>[0.4883243143558502, -1.872187852859497, -2.73...</td>\n",
       "      <td>0</td>\n",
       "    </tr>\n",
       "  </tbody>\n",
       "</table>\n",
       "</div>"
      ],
      "text/plain": [
       "                              image_name  \\\n",
       "0   af49360b0b294346b3dbf70602d56e37.jpg   \n",
       "1  009ccc6503584cabbdff7b98a2bc68e1.jpeg   \n",
       "2   a83a2120a2d945ce82175e0df44fb77b.jpg   \n",
       "3   8a71564f915143969042c0e190b0b47b.jpg   \n",
       "4   e1eaf20e92f043409052f47b3ce60cf5.jpg   \n",
       "\n",
       "                                          embeddings  label_id  \n",
       "0  [0.47940772771835327, 0.9075570106506348, -0.7...         0  \n",
       "1  [0.4841076135635376, -1.1820068359375, -0.3699...         0  \n",
       "2  [1.1368943452835083, 0.12796548008918762, -0.2...         0  \n",
       "3  [0.20197629928588867, -1.1876723766326904, -0....         0  \n",
       "4  [0.4883243143558502, -1.872187852859497, -2.73...         0  "
      ]
     },
     "execution_count": 6,
     "metadata": {},
     "output_type": "execute_result"
    }
   ],
   "source": [
    "df.head()"
   ]
  },
  {
   "cell_type": "code",
   "execution_count": 5,
   "metadata": {},
   "outputs": [
    {
     "data": {
      "text/html": [
       "<div>\n",
       "<style scoped>\n",
       "    .dataframe tbody tr th:only-of-type {\n",
       "        vertical-align: middle;\n",
       "    }\n",
       "\n",
       "    .dataframe tbody tr th {\n",
       "        vertical-align: top;\n",
       "    }\n",
       "\n",
       "    .dataframe thead th {\n",
       "        text-align: right;\n",
       "    }\n",
       "</style>\n",
       "<table border=\"1\" class=\"dataframe\">\n",
       "  <thead>\n",
       "    <tr style=\"text-align: right;\">\n",
       "      <th></th>\n",
       "      <th>image_name</th>\n",
       "      <th>embeddings</th>\n",
       "      <th>label_id</th>\n",
       "    </tr>\n",
       "  </thead>\n",
       "  <tbody>\n",
       "    <tr>\n",
       "      <th>0</th>\n",
       "      <td>af49360b0b294346b3dbf70602d56e37.jpg</td>\n",
       "      <td>[0.7169162631034851, 0.43701666593551636, -0.7...</td>\n",
       "      <td>0</td>\n",
       "    </tr>\n",
       "    <tr>\n",
       "      <th>1</th>\n",
       "      <td>009ccc6503584cabbdff7b98a2bc68e1.jpeg</td>\n",
       "      <td>[0.37746596336364746, -2.1069443225860596, -0....</td>\n",
       "      <td>0</td>\n",
       "    </tr>\n",
       "    <tr>\n",
       "      <th>2</th>\n",
       "      <td>a83a2120a2d945ce82175e0df44fb77b.jpg</td>\n",
       "      <td>[0.9471850991249084, 0.09843537211418152, -1.0...</td>\n",
       "      <td>0</td>\n",
       "    </tr>\n",
       "    <tr>\n",
       "      <th>3</th>\n",
       "      <td>8a71564f915143969042c0e190b0b47b.jpg</td>\n",
       "      <td>[-0.39543387293815613, -1.5248051881790161, -0...</td>\n",
       "      <td>0</td>\n",
       "    </tr>\n",
       "    <tr>\n",
       "      <th>4</th>\n",
       "      <td>e1eaf20e92f043409052f47b3ce60cf5.jpg</td>\n",
       "      <td>[0.3142659664154053, -1.7321891784667969, -2.4...</td>\n",
       "      <td>0</td>\n",
       "    </tr>\n",
       "  </tbody>\n",
       "</table>\n",
       "</div>"
      ],
      "text/plain": [
       "                              image_name  \\\n",
       "0   af49360b0b294346b3dbf70602d56e37.jpg   \n",
       "1  009ccc6503584cabbdff7b98a2bc68e1.jpeg   \n",
       "2   a83a2120a2d945ce82175e0df44fb77b.jpg   \n",
       "3   8a71564f915143969042c0e190b0b47b.jpg   \n",
       "4   e1eaf20e92f043409052f47b3ce60cf5.jpg   \n",
       "\n",
       "                                          embeddings  label_id  \n",
       "0  [0.7169162631034851, 0.43701666593551636, -0.7...         0  \n",
       "1  [0.37746596336364746, -2.1069443225860596, -0....         0  \n",
       "2  [0.9471850991249084, 0.09843537211418152, -1.0...         0  \n",
       "3  [-0.39543387293815613, -1.5248051881790161, -0...         0  \n",
       "4  [0.3142659664154053, -1.7321891784667969, -2.4...         0  "
      ]
     },
     "execution_count": 5,
     "metadata": {},
     "output_type": "execute_result"
    }
   ],
   "source": [
    "df_perspective.head()"
   ]
  },
  {
   "cell_type": "code",
   "execution_count": 7,
   "metadata": {},
   "outputs": [
    {
     "data": {
      "text/html": [
       "<div>\n",
       "<style scoped>\n",
       "    .dataframe tbody tr th:only-of-type {\n",
       "        vertical-align: middle;\n",
       "    }\n",
       "\n",
       "    .dataframe tbody tr th {\n",
       "        vertical-align: top;\n",
       "    }\n",
       "\n",
       "    .dataframe thead th {\n",
       "        text-align: right;\n",
       "    }\n",
       "</style>\n",
       "<table border=\"1\" class=\"dataframe\">\n",
       "  <thead>\n",
       "    <tr style=\"text-align: right;\">\n",
       "      <th></th>\n",
       "      <th>image_name</th>\n",
       "      <th>embeddings</th>\n",
       "      <th>label_id</th>\n",
       "    </tr>\n",
       "  </thead>\n",
       "  <tbody>\n",
       "    <tr>\n",
       "      <th>0</th>\n",
       "      <td>af49360b0b294346b3dbf70602d56e37.jpg</td>\n",
       "      <td>[0.4593697488307953, 0.8404971957206726, -0.79...</td>\n",
       "      <td>0</td>\n",
       "    </tr>\n",
       "    <tr>\n",
       "      <th>1</th>\n",
       "      <td>009ccc6503584cabbdff7b98a2bc68e1.jpeg</td>\n",
       "      <td>[0.5383585095405579, -1.254263997077942, -0.40...</td>\n",
       "      <td>0</td>\n",
       "    </tr>\n",
       "    <tr>\n",
       "      <th>2</th>\n",
       "      <td>a83a2120a2d945ce82175e0df44fb77b.jpg</td>\n",
       "      <td>[1.0610202550888062, 0.1304190456867218, -0.31...</td>\n",
       "      <td>0</td>\n",
       "    </tr>\n",
       "    <tr>\n",
       "      <th>3</th>\n",
       "      <td>8a71564f915143969042c0e190b0b47b.jpg</td>\n",
       "      <td>[0.2719621956348419, -1.1235988140106201, -0.3...</td>\n",
       "      <td>0</td>\n",
       "    </tr>\n",
       "    <tr>\n",
       "      <th>4</th>\n",
       "      <td>e1eaf20e92f043409052f47b3ce60cf5.jpg</td>\n",
       "      <td>[0.6005092859268188, -1.660418152809143, -2.93...</td>\n",
       "      <td>0</td>\n",
       "    </tr>\n",
       "  </tbody>\n",
       "</table>\n",
       "</div>"
      ],
      "text/plain": [
       "                              image_name  \\\n",
       "0   af49360b0b294346b3dbf70602d56e37.jpg   \n",
       "1  009ccc6503584cabbdff7b98a2bc68e1.jpeg   \n",
       "2   a83a2120a2d945ce82175e0df44fb77b.jpg   \n",
       "3   8a71564f915143969042c0e190b0b47b.jpg   \n",
       "4   e1eaf20e92f043409052f47b3ce60cf5.jpg   \n",
       "\n",
       "                                          embeddings  label_id  \n",
       "0  [0.4593697488307953, 0.8404971957206726, -0.79...         0  \n",
       "1  [0.5383585095405579, -1.254263997077942, -0.40...         0  \n",
       "2  [1.0610202550888062, 0.1304190456867218, -0.31...         0  \n",
       "3  [0.2719621956348419, -1.1235988140106201, -0.3...         0  \n",
       "4  [0.6005092859268188, -1.660418152809143, -2.93...         0  "
      ]
     },
     "execution_count": 7,
     "metadata": {},
     "output_type": "execute_result"
    }
   ],
   "source": [
    "df_flipped.head()"
   ]
  },
  {
   "cell_type": "code",
   "execution_count": 8,
   "metadata": {},
   "outputs": [
    {
     "data": {
      "text/plain": [
       "(768,)"
      ]
     },
     "execution_count": 8,
     "metadata": {},
     "output_type": "execute_result"
    }
   ],
   "source": [
    "df_rotated[\"embeddings\"][0].shape"
   ]
  },
  {
   "cell_type": "code",
   "execution_count": 9,
   "metadata": {},
   "outputs": [],
   "source": [
    "new_columns = [f\"embedding{i}\" for i in range(768)]"
   ]
  },
  {
   "cell_type": "code",
   "execution_count": null,
   "metadata": {},
   "outputs": [],
   "source": [
    "df[new_columns] = pd.DataFrame(df[\"embeddings\"].tolist(), index=df.index, columns=new_columns)\n",
    "df_rotated[new_columns] = pd.DataFrame(df_rotated[\"embeddings\"].tolist(), index=df_rotated.index, columns=new_columns)\n",
    "df_flipped[new_columns] = pd.DataFrame(df_flipped[\"embeddings\"].tolist(), index=df_flipped.index, columns=new_columns)\n",
    "df_perspective[new_columns] = pd.DataFrame(df_perspective[\"embeddings\"].tolist(), index=df_perspective.index, columns=new_columns)"
   ]
  },
  {
   "cell_type": "code",
   "execution_count": 11,
   "metadata": {},
   "outputs": [],
   "source": [
    "df = df.drop(columns=[\"embeddings\"])\n",
    "df_rotated = df_rotated.drop(columns=[\"embeddings\"])\n",
    "df_flipped = df_flipped.drop(columns=[\"embeddings\"])\n",
    "df_perspective = df_perspective.drop(columns=[\"embeddings\"])"
   ]
  },
  {
   "cell_type": "code",
   "execution_count": 12,
   "metadata": {},
   "outputs": [
    {
     "data": {
      "text/html": [
       "<div>\n",
       "<style scoped>\n",
       "    .dataframe tbody tr th:only-of-type {\n",
       "        vertical-align: middle;\n",
       "    }\n",
       "\n",
       "    .dataframe tbody tr th {\n",
       "        vertical-align: top;\n",
       "    }\n",
       "\n",
       "    .dataframe thead th {\n",
       "        text-align: right;\n",
       "    }\n",
       "</style>\n",
       "<table border=\"1\" class=\"dataframe\">\n",
       "  <thead>\n",
       "    <tr style=\"text-align: right;\">\n",
       "      <th></th>\n",
       "      <th>image_name</th>\n",
       "      <th>label_id</th>\n",
       "      <th>embedding0</th>\n",
       "      <th>embedding1</th>\n",
       "      <th>embedding2</th>\n",
       "      <th>embedding3</th>\n",
       "      <th>embedding4</th>\n",
       "      <th>embedding5</th>\n",
       "      <th>embedding6</th>\n",
       "      <th>embedding7</th>\n",
       "      <th>...</th>\n",
       "      <th>embedding758</th>\n",
       "      <th>embedding759</th>\n",
       "      <th>embedding760</th>\n",
       "      <th>embedding761</th>\n",
       "      <th>embedding762</th>\n",
       "      <th>embedding763</th>\n",
       "      <th>embedding764</th>\n",
       "      <th>embedding765</th>\n",
       "      <th>embedding766</th>\n",
       "      <th>embedding767</th>\n",
       "    </tr>\n",
       "  </thead>\n",
       "  <tbody>\n",
       "    <tr>\n",
       "      <th>0</th>\n",
       "      <td>af49360b0b294346b3dbf70602d56e37.jpg</td>\n",
       "      <td>0</td>\n",
       "      <td>0.308297</td>\n",
       "      <td>0.981043</td>\n",
       "      <td>-0.799490</td>\n",
       "      <td>-0.276483</td>\n",
       "      <td>-0.497870</td>\n",
       "      <td>1.375329</td>\n",
       "      <td>-2.264480</td>\n",
       "      <td>0.464695</td>\n",
       "      <td>...</td>\n",
       "      <td>-1.321331</td>\n",
       "      <td>-0.516001</td>\n",
       "      <td>0.111995</td>\n",
       "      <td>0.647312</td>\n",
       "      <td>0.694965</td>\n",
       "      <td>0.029785</td>\n",
       "      <td>1.541327</td>\n",
       "      <td>1.073319</td>\n",
       "      <td>1.468405</td>\n",
       "      <td>0.586317</td>\n",
       "    </tr>\n",
       "    <tr>\n",
       "      <th>1</th>\n",
       "      <td>009ccc6503584cabbdff7b98a2bc68e1.jpeg</td>\n",
       "      <td>0</td>\n",
       "      <td>0.222821</td>\n",
       "      <td>-1.226499</td>\n",
       "      <td>-0.076431</td>\n",
       "      <td>-2.339118</td>\n",
       "      <td>-0.171457</td>\n",
       "      <td>-0.055407</td>\n",
       "      <td>-2.220533</td>\n",
       "      <td>1.752168</td>\n",
       "      <td>...</td>\n",
       "      <td>0.037248</td>\n",
       "      <td>0.397910</td>\n",
       "      <td>-0.494450</td>\n",
       "      <td>1.314498</td>\n",
       "      <td>0.864861</td>\n",
       "      <td>0.075620</td>\n",
       "      <td>-0.482226</td>\n",
       "      <td>-1.045789</td>\n",
       "      <td>0.156660</td>\n",
       "      <td>0.513136</td>\n",
       "    </tr>\n",
       "    <tr>\n",
       "      <th>2</th>\n",
       "      <td>a83a2120a2d945ce82175e0df44fb77b.jpg</td>\n",
       "      <td>0</td>\n",
       "      <td>1.202581</td>\n",
       "      <td>0.238231</td>\n",
       "      <td>-0.431679</td>\n",
       "      <td>-0.637539</td>\n",
       "      <td>-2.261186</td>\n",
       "      <td>0.047116</td>\n",
       "      <td>-2.239282</td>\n",
       "      <td>0.652140</td>\n",
       "      <td>...</td>\n",
       "      <td>-0.074932</td>\n",
       "      <td>-2.081152</td>\n",
       "      <td>-0.610765</td>\n",
       "      <td>0.172505</td>\n",
       "      <td>0.060623</td>\n",
       "      <td>-0.274593</td>\n",
       "      <td>2.445959</td>\n",
       "      <td>0.237380</td>\n",
       "      <td>0.537469</td>\n",
       "      <td>-0.269495</td>\n",
       "    </tr>\n",
       "    <tr>\n",
       "      <th>3</th>\n",
       "      <td>8a71564f915143969042c0e190b0b47b.jpg</td>\n",
       "      <td>0</td>\n",
       "      <td>0.050828</td>\n",
       "      <td>-1.430126</td>\n",
       "      <td>-0.422312</td>\n",
       "      <td>-0.983569</td>\n",
       "      <td>-0.275139</td>\n",
       "      <td>-0.407202</td>\n",
       "      <td>-0.981467</td>\n",
       "      <td>0.770200</td>\n",
       "      <td>...</td>\n",
       "      <td>-0.028636</td>\n",
       "      <td>-0.872249</td>\n",
       "      <td>-2.655816</td>\n",
       "      <td>1.136159</td>\n",
       "      <td>-0.199543</td>\n",
       "      <td>1.266851</td>\n",
       "      <td>0.107124</td>\n",
       "      <td>-1.395678</td>\n",
       "      <td>-0.408134</td>\n",
       "      <td>0.332217</td>\n",
       "    </tr>\n",
       "    <tr>\n",
       "      <th>4</th>\n",
       "      <td>e1eaf20e92f043409052f47b3ce60cf5.jpg</td>\n",
       "      <td>0</td>\n",
       "      <td>0.664141</td>\n",
       "      <td>-1.987931</td>\n",
       "      <td>-2.802923</td>\n",
       "      <td>-0.918670</td>\n",
       "      <td>-0.061618</td>\n",
       "      <td>0.623669</td>\n",
       "      <td>-2.193229</td>\n",
       "      <td>0.470720</td>\n",
       "      <td>...</td>\n",
       "      <td>0.880685</td>\n",
       "      <td>-0.581751</td>\n",
       "      <td>-0.644481</td>\n",
       "      <td>-1.285282</td>\n",
       "      <td>-0.382011</td>\n",
       "      <td>0.566974</td>\n",
       "      <td>-1.492486</td>\n",
       "      <td>0.139104</td>\n",
       "      <td>1.213454</td>\n",
       "      <td>1.069047</td>\n",
       "    </tr>\n",
       "  </tbody>\n",
       "</table>\n",
       "<p>5 rows × 770 columns</p>\n",
       "</div>"
      ],
      "text/plain": [
       "                              image_name  label_id  embedding0  embedding1  \\\n",
       "0   af49360b0b294346b3dbf70602d56e37.jpg         0    0.308297    0.981043   \n",
       "1  009ccc6503584cabbdff7b98a2bc68e1.jpeg         0    0.222821   -1.226499   \n",
       "2   a83a2120a2d945ce82175e0df44fb77b.jpg         0    1.202581    0.238231   \n",
       "3   8a71564f915143969042c0e190b0b47b.jpg         0    0.050828   -1.430126   \n",
       "4   e1eaf20e92f043409052f47b3ce60cf5.jpg         0    0.664141   -1.987931   \n",
       "\n",
       "   embedding2  embedding3  embedding4  embedding5  embedding6  embedding7  \\\n",
       "0   -0.799490   -0.276483   -0.497870    1.375329   -2.264480    0.464695   \n",
       "1   -0.076431   -2.339118   -0.171457   -0.055407   -2.220533    1.752168   \n",
       "2   -0.431679   -0.637539   -2.261186    0.047116   -2.239282    0.652140   \n",
       "3   -0.422312   -0.983569   -0.275139   -0.407202   -0.981467    0.770200   \n",
       "4   -2.802923   -0.918670   -0.061618    0.623669   -2.193229    0.470720   \n",
       "\n",
       "   ...  embedding758  embedding759  embedding760  embedding761  embedding762  \\\n",
       "0  ...     -1.321331     -0.516001      0.111995      0.647312      0.694965   \n",
       "1  ...      0.037248      0.397910     -0.494450      1.314498      0.864861   \n",
       "2  ...     -0.074932     -2.081152     -0.610765      0.172505      0.060623   \n",
       "3  ...     -0.028636     -0.872249     -2.655816      1.136159     -0.199543   \n",
       "4  ...      0.880685     -0.581751     -0.644481     -1.285282     -0.382011   \n",
       "\n",
       "   embedding763  embedding764  embedding765  embedding766  embedding767  \n",
       "0      0.029785      1.541327      1.073319      1.468405      0.586317  \n",
       "1      0.075620     -0.482226     -1.045789      0.156660      0.513136  \n",
       "2     -0.274593      2.445959      0.237380      0.537469     -0.269495  \n",
       "3      1.266851      0.107124     -1.395678     -0.408134      0.332217  \n",
       "4      0.566974     -1.492486      0.139104      1.213454      1.069047  \n",
       "\n",
       "[5 rows x 770 columns]"
      ]
     },
     "execution_count": 12,
     "metadata": {},
     "output_type": "execute_result"
    }
   ],
   "source": [
    "df_rotated.head()"
   ]
  },
  {
   "cell_type": "code",
   "execution_count": 13,
   "metadata": {},
   "outputs": [],
   "source": [
    "X, y = df.drop(columns=[\"image_name\", \"label_id\"]), df[\"label_id\"]\n",
    "X_rotated, y_rotated = df_rotated.drop(columns=[\"image_name\", \"label_id\"]), df_rotated[\"label_id\"]\n",
    "X_flipped, y_flipped = df_flipped.drop(columns=[\"image_name\", \"label_id\"]), df_flipped[\"label_id\"]\n",
    "X_perspective, y_perspective = df_perspective.drop(columns=[\"image_name\", \"label_id\"]), df_perspective[\"label_id\"]"
   ]
  },
  {
   "cell_type": "code",
   "execution_count": 19,
   "metadata": {},
   "outputs": [],
   "source": [
    "X_train, X_test, y_train, y_test = train_test_split(X, y, test_size=0.2)"
   ]
  },
  {
   "cell_type": "code",
   "execution_count": 20,
   "metadata": {},
   "outputs": [],
   "source": [
    "X_train = pd.concat((X_perspective.loc[X_train.index], X_flipped.loc[X_train.index], X_rotated.loc[X_train.index], X_train))\n",
    "y_train = pd.concat((y_perspective.loc[y_train.index], y_flipped.loc[y_train.index], y_rotated.loc[y_train.index], y_train))"
   ]
  },
  {
   "cell_type": "code",
   "execution_count": 21,
   "metadata": {},
   "outputs": [],
   "source": [
    "regr = LogisticRegression(max_iter=10000).fit(X_train, y_train)"
   ]
  },
  {
   "cell_type": "code",
   "execution_count": 22,
   "metadata": {},
   "outputs": [
    {
     "data": {
      "text/plain": [
       "0.998766412044551"
      ]
     },
     "execution_count": 22,
     "metadata": {},
     "output_type": "execute_result"
    }
   ],
   "source": [
    "f1_score(y_train, regr.predict(X_train), average='macro')"
   ]
  },
  {
   "cell_type": "code",
   "execution_count": 23,
   "metadata": {},
   "outputs": [
    {
     "data": {
      "text/plain": [
       "0.9996372605919908"
      ]
     },
     "execution_count": 23,
     "metadata": {},
     "output_type": "execute_result"
    }
   ],
   "source": [
    "accuracy_score(y_train, regr.predict(X_train))"
   ]
  },
  {
   "cell_type": "code",
   "execution_count": 24,
   "metadata": {},
   "outputs": [
    {
     "data": {
      "text/plain": [
       "0.7746410280322173"
      ]
     },
     "execution_count": 24,
     "metadata": {},
     "output_type": "execute_result"
    }
   ],
   "source": [
    "f1_score(y_test, regr.predict(X_test), average='macro')"
   ]
  },
  {
   "cell_type": "code",
   "execution_count": 25,
   "metadata": {},
   "outputs": [
    {
     "data": {
      "text/plain": [
       "0.8583865351131746"
      ]
     },
     "execution_count": 25,
     "metadata": {},
     "output_type": "execute_result"
    }
   ],
   "source": [
    "accuracy_score(y_test, regr.predict(X_test))"
   ]
  },
  {
   "cell_type": "code",
   "execution_count": 33,
   "metadata": {},
   "outputs": [],
   "source": [
    "X_full = pd.concat((X_perspective, X_flipped, X_rotated, X))\n",
    "y_full = pd.concat((y_perspective, y_flipped, y_rotated, y))"
   ]
  },
  {
   "cell_type": "code",
   "execution_count": 34,
   "metadata": {},
   "outputs": [],
   "source": [
    "X_full = X_full.reset_index(drop=True)\n",
    "y_full = y_full.reset_index(drop=True)"
   ]
  },
  {
   "cell_type": "code",
   "execution_count": 35,
   "metadata": {},
   "outputs": [],
   "source": [
    "random_idx = np.random.permutation(X_full.index)"
   ]
  },
  {
   "cell_type": "code",
   "execution_count": 36,
   "metadata": {},
   "outputs": [],
   "source": [
    "X_full = X_full.reindex(random_idx)\n",
    "y_full = y_full.reindex(random_idx)"
   ]
  },
  {
   "cell_type": "code",
   "execution_count": 37,
   "metadata": {},
   "outputs": [],
   "source": [
    "full_regr = LogisticRegression(max_iter=10000).fit(X_full, y_full)"
   ]
  },
  {
   "cell_type": "code",
   "execution_count": 38,
   "metadata": {},
   "outputs": [
    {
     "data": {
      "text/plain": [
       "0.9975659877756413"
      ]
     },
     "execution_count": 38,
     "metadata": {},
     "output_type": "execute_result"
    }
   ],
   "source": [
    "f1_score(y, full_regr.predict(X), average='macro')"
   ]
  },
  {
   "cell_type": "code",
   "execution_count": 39,
   "metadata": {},
   "outputs": [
    {
     "data": {
      "text/plain": [
       "0.9993035403366222"
      ]
     },
     "execution_count": 39,
     "metadata": {},
     "output_type": "execute_result"
    }
   ],
   "source": [
    "accuracy_score(y, full_regr.predict(X))"
   ]
  },
  {
   "cell_type": "code",
   "execution_count": 40,
   "metadata": {},
   "outputs": [],
   "source": [
    "import joblib"
   ]
  },
  {
   "cell_type": "code",
   "execution_count": 41,
   "metadata": {},
   "outputs": [
    {
     "data": {
      "text/plain": [
       "['logistic_regression.pkl']"
      ]
     },
     "execution_count": 41,
     "metadata": {},
     "output_type": "execute_result"
    }
   ],
   "source": [
    "model_file = \"logistic_regression.pkl\"\n",
    "joblib.dump(full_regr, model_file)"
   ]
  }
 ],
 "metadata": {
  "kernelspec": {
   "display_name": "Python 3",
   "language": "python",
   "name": "python3"
  },
  "language_info": {
   "codemirror_mode": {
    "name": "ipython",
    "version": 3
   },
   "file_extension": ".py",
   "mimetype": "text/x-python",
   "name": "python",
   "nbconvert_exporter": "python",
   "pygments_lexer": "ipython3",
   "version": "3.11.6"
  }
 },
 "nbformat": 4,
 "nbformat_minor": 2
}
